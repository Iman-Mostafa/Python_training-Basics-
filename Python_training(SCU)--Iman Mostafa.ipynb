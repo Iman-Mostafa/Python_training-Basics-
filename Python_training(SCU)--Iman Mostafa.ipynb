{
 "cells": [
  {
   "cell_type": "markdown",
   "id": "12e236aa",
   "metadata": {},
   "source": [
    "## Print"
   ]
  },
  {
   "cell_type": "code",
   "execution_count": null,
   "id": "5304719c",
   "metadata": {},
   "outputs": [],
   "source": [
    "t=4\n",
    "print (t)"
   ]
  },
  {
   "cell_type": "code",
   "execution_count": null,
   "id": "3ec0fbf1",
   "metadata": {},
   "outputs": [],
   "source": [
    "t='ahmed'   # not define variables\n",
    "print(t)    #string"
   ]
  },
  {
   "cell_type": "code",
   "execution_count": null,
   "id": "7fe5bea5",
   "metadata": {},
   "outputs": [],
   "source": [
    "#print('Hello... World',end=' ')\n",
    "print(\"Hello students\",end=' # ')    #shift+enter   # default value of end (\\n)\n",
    "print('Hi all')"
   ]
  },
  {
   "cell_type": "code",
   "execution_count": null,
   "id": "f48b37e6",
   "metadata": {},
   "outputs": [],
   "source": [
    "print('Hello World',end='    ')\n",
    "print('Hi all')\n"
   ]
  },
  {
   "cell_type": "code",
   "execution_count": null,
   "id": "94f0a669",
   "metadata": {},
   "outputs": [],
   "source": [
    "print('Hello', 'World', 'python',sep='  ')#,end='\\n')\n",
    "#print('Hi all')"
   ]
  },
  {
   "cell_type": "code",
   "execution_count": null,
   "id": "2183cf64",
   "metadata": {},
   "outputs": [],
   "source": [
    "'Hello World'\n",
    "\"Hello World\"\n",
    "print('''Hello World''')"
   ]
  },
  {
   "cell_type": "markdown",
   "id": "aef5dc9a",
   "metadata": {},
   "source": [
    "##  Variables\n"
   ]
  },
  {
   "cell_type": "markdown",
   "id": "6a0a2189",
   "metadata": {},
   "source": [
    "### names can not start with a number\n",
    "### names can not contain spaces, use _ intead\n",
    "### names can not contain any of these symbols:"
   ]
  },
  {
   "cell_type": "code",
   "execution_count": null,
   "id": "4472d041",
   "metadata": {},
   "outputs": [],
   "source": [
    "Ahmed_r=10\n",
    "print(Ahmed_r)\n"
   ]
  },
  {
   "cell_type": "code",
   "execution_count": null,
   "id": "d165d924",
   "metadata": {},
   "outputs": [],
   "source": [
    "#Case sensitive\n",
    "a=3\n",
    "A=5\n",
    "b=2\n",
    "print(a+b)\n"
   ]
  },
  {
   "cell_type": "code",
   "execution_count": null,
   "id": "9443d193",
   "metadata": {},
   "outputs": [],
   "source": [
    "_t=7\n",
    "print(_t)"
   ]
  },
  {
   "cell_type": "code",
   "execution_count": null,
   "id": "c34c1fb8",
   "metadata": {},
   "outputs": [],
   "source": [
    "val_1=9\n",
    "print(val_1)"
   ]
  },
  {
   "cell_type": "code",
   "execution_count": null,
   "id": "6a33e8dd",
   "metadata": {},
   "outputs": [],
   "source": [
    "# No defining for variables\n",
    "x=2\n",
    "y=\"ahmed\"   #string  \n",
    "z=13.4\n",
    "d= False   #boolean\n",
    "type (d)"
   ]
  },
  {
   "cell_type": "code",
   "execution_count": null,
   "id": "e2cdb61d",
   "metadata": {},
   "outputs": [],
   "source": [
    "x=3\n",
    "y=5\n",
    "g=complex(x,y)\n",
    "print(g)\n",
    "print(g.real)"
   ]
  },
  {
   "cell_type": "code",
   "execution_count": null,
   "id": "f9167a8f",
   "metadata": {},
   "outputs": [],
   "source": [
    "class= 3    #reserved words\n",
    "print( class) "
   ]
  },
  {
   "cell_type": "code",
   "execution_count": null,
   "id": "c0465117",
   "metadata": {},
   "outputs": [],
   "source": [
    "# define more than 1 var. in 1 line\n",
    "s,a,r=13,'ahmed','8'\n",
    "print(a,s)"
   ]
  },
  {
   "cell_type": "code",
   "execution_count": null,
   "id": "eb3349fe",
   "metadata": {},
   "outputs": [],
   "source": [
    "#Convert from a type to another\n",
    "#print (int(r))\n",
    "a=12\n",
    "print(float(a))"
   ]
  },
  {
   "cell_type": "markdown",
   "id": "3bb9fe95",
   "metadata": {},
   "source": [
    "# String"
   ]
  },
  {
   "cell_type": "code",
   "execution_count": null,
   "id": "0d60ca3e",
   "metadata": {},
   "outputs": [],
   "source": [
    "#Long string\n",
    "x='''my name is ..... and  iam from egypt   jjjjjjkj\n",
    "jiojoijoijoijoijjiojo'''\n",
    "print(x)"
   ]
  },
  {
   "cell_type": "code",
   "execution_count": null,
   "id": "e027658d",
   "metadata": {},
   "outputs": [],
   "source": [
    "x='''i love programming and i am workining in scu gggggggh\n",
    "fhjjhgkjjkhjkhljk'''\n",
    "print(x)"
   ]
  },
  {
   "cell_type": "code",
   "execution_count": null,
   "id": "f344decd",
   "metadata": {},
   "outputs": [],
   "source": [
    "print(\"Training \\n\" *5)"
   ]
  },
  {
   "cell_type": "code",
   "execution_count": null,
   "id": "dca8d71b",
   "metadata": {},
   "outputs": [],
   "source": [
    "#Concatentation\n",
    "x='I'+ ' '+'Love'+\" --------        \"+'python' \n",
    "print(x)\n"
   ]
  },
  {
   "cell_type": "code",
   "execution_count": null,
   "id": "04778b2f",
   "metadata": {},
   "outputs": [],
   "source": [
    "x='Suez Canal University'\n",
    "print(len(x))\n",
    "print(x.lower())\n",
    "print(x.upper())\n",
    "print(x.split(', '))\n"
   ]
  },
  {
   "cell_type": "code",
   "execution_count": null,
   "id": "ef8de592",
   "metadata": {},
   "outputs": [],
   "source": [
    "print(x[-3])  #index"
   ]
  },
  {
   "cell_type": "markdown",
   "id": "e519a5be",
   "metadata": {},
   "source": [
    "## Math. Operations"
   ]
  },
  {
   "cell_type": "raw",
   "id": "ec1fdb49",
   "metadata": {},
   "source": [
    "\n",
    "# | Symbol | Task Performed |\n",
    "# |----|---|\n",
    "# | +  | Addition |\n",
    "# | -  | Subtraction |\n",
    "# | /  | division |\n",
    "# | %  | mod |\n",
    "# | *  | multiplication |\n",
    "# | //  | floor division |\n",
    "# | **  | to the power of |"
   ]
  },
  {
   "cell_type": "code",
   "execution_count": null,
   "id": "d3bc90ab",
   "metadata": {},
   "outputs": [],
   "source": [
    "a= 3\n",
    "b=4\n",
    "print(a+b)"
   ]
  },
  {
   "cell_type": "code",
   "execution_count": null,
   "id": "46c1945b",
   "metadata": {},
   "outputs": [],
   "source": [
    "#Division   \n",
    "y=3//2      #python2--- 1\n",
    "print(y)\n",
    "print(4%2)  #modulo"
   ]
  },
  {
   "cell_type": "code",
   "execution_count": null,
   "id": "06a893c9",
   "metadata": {},
   "outputs": [],
   "source": [
    "#Combining the previous 2 operations(division+modulus)\n",
    "x=divmod(4,2)\n",
    "print(x)"
   ]
  },
  {
   "cell_type": "code",
   "execution_count": null,
   "id": "039991ff",
   "metadata": {},
   "outputs": [],
   "source": [
    "print(4*2)   \n",
    "print(4**2)\n",
    "\n",
    "a=pow(4,2)\n",
    "print(a)\n"
   ]
  },
  {
   "cell_type": "code",
   "execution_count": null,
   "id": "d88e2b14",
   "metadata": {},
   "outputs": [],
   "source": [
    "#For conditions or loops\n",
    "x=2\n",
    "z=3\n",
    "#z=x\n",
    "print(z>x)\n",
    "#print(z>x)"
   ]
  },
  {
   "cell_type": "code",
   "execution_count": null,
   "id": "4810c533",
   "metadata": {},
   "outputs": [],
   "source": [
    "x=-2\n",
    "print(abs(x))  #absolute"
   ]
  },
  {
   "cell_type": "code",
   "execution_count": null,
   "id": "b4477dbd",
   "metadata": {},
   "outputs": [],
   "source": [
    "x=9.6\n",
    "print(int(x))"
   ]
  },
  {
   "cell_type": "code",
   "execution_count": null,
   "id": "0eaaaee9",
   "metadata": {},
   "outputs": [],
   "source": [
    "print(math.sqrt(4))"
   ]
  },
  {
   "cell_type": "code",
   "execution_count": null,
   "id": "a6860f81",
   "metadata": {},
   "outputs": [],
   "source": [
    "import math\n",
    "import numpy as np   #alias\n"
   ]
  },
  {
   "cell_type": "code",
   "execution_count": null,
   "id": "5c54db3b",
   "metadata": {},
   "outputs": [],
   "source": [
    "b=math.factorial(4)\n",
    "print(b)"
   ]
  },
  {
   "cell_type": "code",
   "execution_count": null,
   "id": "f0e109ee",
   "metadata": {},
   "outputs": [],
   "source": [
    "import math as m\n",
    "print(m.sqrt(4))\n",
    "# m.exp()\n",
    "# m.log()\n",
    "m.sin((30))   # must change to radian"
   ]
  },
  {
   "cell_type": "code",
   "execution_count": null,
   "id": "d6f49d11",
   "metadata": {},
   "outputs": [],
   "source": [
    "print(m.ceil(3.00001))  # approx. to the higher no."
   ]
  },
  {
   "cell_type": "code",
   "execution_count": null,
   "id": "a9a8c4b4",
   "metadata": {},
   "outputs": [],
   "source": [
    "print(m.floor(3.6))"
   ]
  },
  {
   "cell_type": "markdown",
   "id": "2a5c1f6e",
   "metadata": {},
   "source": [
    "# Data structure (Lists-Tuple-Sets-Dictionary)\n",
    "## 1- Lists\n",
    "A list is a data structure in Python that is a mutable, or changeable, ordered sequence of elements."
   ]
  },
  {
   "cell_type": "code",
   "execution_count": null,
   "id": "4a5d1ddf",
   "metadata": {},
   "outputs": [],
   "source": [
    "list1=[1,2,'hi',3]      #square brackets\n",
    "print(len(list1))  \n",
    "#type(list1)#show how many items in the list"
   ]
  },
  {
   "cell_type": "code",
   "execution_count": null,
   "id": "f4f3ade5",
   "metadata": {},
   "outputs": [],
   "source": [
    "#indexing\n",
    "list1[2]\n",
    "list1[2][0]"
   ]
  },
  {
   "cell_type": "code",
   "execution_count": null,
   "id": "e4102821",
   "metadata": {},
   "outputs": [],
   "source": [
    "list1[:]\n",
    "# list1[:3]\n",
    "# list1[1:] #get all the items from index 1 to the end of the list"
   ]
  },
  {
   "cell_type": "code",
   "execution_count": null,
   "id": "ca32b3e7",
   "metadata": {},
   "outputs": [],
   "source": [
    "#list1[-1]  #get the last element\n",
    "#another method\n",
    "len(list1)-1"
   ]
  },
  {
   "cell_type": "code",
   "execution_count": null,
   "id": "914f652b",
   "metadata": {},
   "outputs": [],
   "source": [
    "a=[1,2,3,5,6,7,8,9,'mona']\n",
    "# print(a[:-2] )    #ignore the last 2 elements  a[-2]\n",
    "# print(a[-2])\n",
    "# print(sum(a))  # on numbers only\n",
    "# print(max(a))  # on letters or numbers (not both of them)\n",
    "# b=['a','c','y','b']\n",
    "# print(min(b))"
   ]
  },
  {
   "cell_type": "code",
   "execution_count": null,
   "id": "03f5b78e",
   "metadata": {},
   "outputs": [],
   "source": [
    "print(a)\n",
    "a[2]=5\n",
    "print(a)"
   ]
  },
  {
   "cell_type": "code",
   "execution_count": null,
   "id": "543e6840",
   "metadata": {},
   "outputs": [],
   "source": [
    "a[:2]=[]\n",
    "a"
   ]
  },
  {
   "cell_type": "code",
   "execution_count": null,
   "id": "1d5b2eb4",
   "metadata": {},
   "outputs": [],
   "source": [
    "# del a[6]   #by index\n",
    "# a\n",
    "#a.remove(5) #by object\n",
    "a.pop(1) #by index\n",
    "a"
   ]
  },
  {
   "cell_type": "code",
   "execution_count": null,
   "id": "31c6d212",
   "metadata": {},
   "outputs": [],
   "source": [
    "x=list('Engineering')\n",
    "print(x)"
   ]
  },
  {
   "cell_type": "code",
   "execution_count": null,
   "id": "9b2eb60e",
   "metadata": {},
   "outputs": [],
   "source": [
    "#concatenate two lists\n",
    "b=a+[1,2]\n",
    "print(b)\n",
    "print(a)"
   ]
  },
  {
   "cell_type": "code",
   "execution_count": null,
   "id": "7ebc39f4",
   "metadata": {},
   "outputs": [],
   "source": [
    "c='ahmed'\n",
    "d=3\n",
    "f=c+d\n",
    "f"
   ]
  },
  {
   "cell_type": "code",
   "execution_count": null,
   "id": "902149a2",
   "metadata": {},
   "outputs": [],
   "source": [
    "# my_list=[3,11,4,9]\n",
    "# my_list.sort()#(reverse=True)    #default value is False\n",
    "b=[3,11,4,9]\n",
    "a=sorted(b)             # my_list remains the same\n",
    "#my_list.reverse()\n",
    "a\n",
    "print(b)"
   ]
  },
  {
   "cell_type": "code",
   "execution_count": null,
   "id": "284ed698",
   "metadata": {},
   "outputs": [],
   "source": [
    "from operator import itemgetter\n",
    "\n",
    "a=[('mona',12),('ahmed',20),('eyad',6)]\n",
    "y=sorted(a,key=itemgetter(0))\n",
    "print(y)"
   ]
  },
  {
   "cell_type": "code",
   "execution_count": null,
   "id": "bee2ef9a",
   "metadata": {},
   "outputs": [],
   "source": [
    "#Difference between extend or append\n",
    "x=[1,2,3]\n",
    "y=[4,5,6]\n",
    "x.append(y)   # y remains the same\n",
    "#x.extend(y)\n",
    "print(x)\n",
    "z= 9 in x\n",
    "# z\n",
    "print(z)"
   ]
  },
  {
   "cell_type": "code",
   "execution_count": null,
   "id": "584c0d1d",
   "metadata": {},
   "outputs": [],
   "source": [
    "y.insert(1,11)   #(index,obj)\n",
    "y"
   ]
  },
  {
   "cell_type": "code",
   "execution_count": null,
   "id": "5080bc09",
   "metadata": {},
   "outputs": [],
   "source": [
    "s=[1,3,4,1,5,6,8,5,5,5]\n",
    "print(s.count(5))\n",
    "#print(s.index(5))"
   ]
  },
  {
   "cell_type": "code",
   "execution_count": null,
   "id": "8a7e3d5b",
   "metadata": {},
   "outputs": [],
   "source": [
    "f=list(range(1,11,2) )    #(start,end,step)\n",
    "f"
   ]
  },
  {
   "cell_type": "code",
   "execution_count": null,
   "id": "9df0f067",
   "metadata": {},
   "outputs": [],
   "source": [
    "a=['a','v','c']\n",
    "b=a\n",
    "#print(b)\n",
    "a.extend('d')\n",
    "print(a,b)"
   ]
  },
  {
   "cell_type": "code",
   "execution_count": null,
   "id": "2999cd96",
   "metadata": {},
   "outputs": [],
   "source": [
    "#To solve the previous issue\n",
    "b=a.copy()\n",
    "a.extend('d')\n",
    "print(a)\n",
    "print(b)"
   ]
  },
  {
   "cell_type": "markdown",
   "id": "fa73742a",
   "metadata": {},
   "source": [
    "## 2-TUPLES\n",
    "Tuples are used if you want your code to be more secure or unchangable(immutable)"
   ]
  },
  {
   "cell_type": "code",
   "execution_count": 3,
   "id": "868c8f18",
   "metadata": {},
   "outputs": [
    {
     "name": "stdout",
     "output_type": "stream",
     "text": [
      "<class 'tuple'>\n",
      "4\n"
     ]
    }
   ],
   "source": [
    "#t=(1,2,'a',1)\n",
    "t= 1,2,'a',1\n",
    "print(type(t))\n",
    "print(len(t))\n",
    "#t.count(2)"
   ]
  },
  {
   "cell_type": "code",
   "execution_count": 5,
   "id": "4b667099",
   "metadata": {},
   "outputs": [
    {
     "ename": "AttributeError",
     "evalue": "'tuple' object has no attribute 'append'",
     "output_type": "error",
     "traceback": [
      "\u001b[1;31m---------------------------------------------------------------------------\u001b[0m",
      "\u001b[1;31mAttributeError\u001b[0m                            Traceback (most recent call last)",
      "\u001b[1;32m~\\AppData\\Local\\Temp\\ipykernel_10436\\2561175183.py\u001b[0m in \u001b[0;36m<module>\u001b[1;34m\u001b[0m\n\u001b[0;32m      1\u001b[0m \u001b[1;31m#t[0]=2        #tuple is not mutable\u001b[0m\u001b[1;33m\u001b[0m\u001b[1;33m\u001b[0m\u001b[1;33m\u001b[0m\u001b[0m\n\u001b[1;32m----> 2\u001b[1;33m \u001b[0mt\u001b[0m\u001b[1;33m.\u001b[0m\u001b[0mappend\u001b[0m\u001b[1;33m(\u001b[0m\u001b[1;36m1\u001b[0m\u001b[1;33m)\u001b[0m  \u001b[1;31m# tuple has no append or insert\u001b[0m\u001b[1;33m\u001b[0m\u001b[1;33m\u001b[0m\u001b[0m\n\u001b[0m\u001b[0;32m      3\u001b[0m \u001b[0mt\u001b[0m\u001b[1;33m\u001b[0m\u001b[1;33m\u001b[0m\u001b[0m\n",
      "\u001b[1;31mAttributeError\u001b[0m: 'tuple' object has no attribute 'append'"
     ]
    }
   ],
   "source": [
    "#t[0]=2        #tuple is not mutable\n",
    "t.append(1)  # tuple has no append or insert\n",
    "t"
   ]
  },
  {
   "cell_type": "code",
   "execution_count": 7,
   "id": "1d949c43",
   "metadata": {},
   "outputs": [
    {
     "data": {
      "text/plain": [
       "tuple"
      ]
     },
     "execution_count": 7,
     "metadata": {},
     "output_type": "execute_result"
    }
   ],
   "source": [
    "t1=(2,)     #not a tuple\n",
    "#t1=(1,)   #tuple\n",
    "type(t1)"
   ]
  },
  {
   "cell_type": "code",
   "execution_count": 8,
   "id": "14ef75c2",
   "metadata": {},
   "outputs": [
    {
     "data": {
      "text/plain": [
       "tuple"
      ]
     },
     "execution_count": 8,
     "metadata": {},
     "output_type": "execute_result"
    }
   ],
   "source": [
    "a=()\n",
    "type(a)"
   ]
  },
  {
   "cell_type": "code",
   "execution_count": 10,
   "id": "a6ba0861",
   "metadata": {},
   "outputs": [
    {
     "ename": "TypeError",
     "evalue": "'tuple' object is not callable",
     "output_type": "error",
     "traceback": [
      "\u001b[1;31m---------------------------------------------------------------------------\u001b[0m",
      "\u001b[1;31mTypeError\u001b[0m                                 Traceback (most recent call last)",
      "\u001b[1;32m~\\AppData\\Local\\Temp\\ipykernel_10436\\81009243.py\u001b[0m in \u001b[0;36m<module>\u001b[1;34m\u001b[0m\n\u001b[0;32m      1\u001b[0m \u001b[0mt3\u001b[0m\u001b[1;33m=\u001b[0m\u001b[1;33m(\u001b[0m\u001b[1;36m2\u001b[0m\u001b[1;33m,\u001b[0m\u001b[1;36m5\u001b[0m\u001b[1;33m,\u001b[0m\u001b[1;36m4\u001b[0m\u001b[1;33m,\u001b[0m\u001b[1;36m6\u001b[0m\u001b[1;33m)\u001b[0m\u001b[1;33m\u001b[0m\u001b[1;33m\u001b[0m\u001b[0m\n\u001b[1;32m----> 2\u001b[1;33m \u001b[0mprint\u001b[0m\u001b[1;33m(\u001b[0m\u001b[0mt3\u001b[0m\u001b[1;33m(\u001b[0m\u001b[1;36m0\u001b[0m\u001b[1;33m)\u001b[0m\u001b[1;33m)\u001b[0m       \u001b[1;31m# take care of the brackets when indexing the tuple\u001b[0m\u001b[1;33m\u001b[0m\u001b[1;33m\u001b[0m\u001b[0m\n\u001b[0m",
      "\u001b[1;31mTypeError\u001b[0m: 'tuple' object is not callable"
     ]
    }
   ],
   "source": [
    "t3=(2,5,4,6)\n",
    "print(t3[0])       # take care of the brackets when indexing the tuple"
   ]
  },
  {
   "cell_type": "code",
   "execution_count": 13,
   "id": "63698304",
   "metadata": {},
   "outputs": [
    {
     "name": "stdout",
     "output_type": "stream",
     "text": [
      "[2, 5, 4, 6]\n",
      "[3, 5, 4, 6]\n"
     ]
    }
   ],
   "source": [
    "t4=list(t3)\n",
    "print(t4)\n",
    "t3\n",
    "t4[0]=3\n",
    "print(t4)"
   ]
  },
  {
   "cell_type": "code",
   "execution_count": 14,
   "id": "58b965f1",
   "metadata": {},
   "outputs": [
    {
     "data": {
      "text/plain": [
       "[('eyad', 6, 'hhh'), ('mona', 12, 'egypt'), ('ahmed', 20, 'iran')]"
      ]
     },
     "execution_count": 14,
     "metadata": {},
     "output_type": "execute_result"
    }
   ],
   "source": [
    "a=[('mona',12,'egypt'),('ahmed',20,'iran'),('eyad',6,'hhh')]    # list of tuples\n",
    "y=sorted(a,key=lambda e:e[1])#,reverse=True)  \n",
    "y"
   ]
  },
  {
   "cell_type": "markdown",
   "id": "62341f3c",
   "metadata": {},
   "source": [
    "## Sets\n",
    "No repeated items{}"
   ]
  },
  {
   "cell_type": "code",
   "execution_count": 15,
   "id": "f173b3b1",
   "metadata": {},
   "outputs": [
    {
     "name": "stdout",
     "output_type": "stream",
     "text": [
      "{0, 1, 5, 7, 8}\n"
     ]
    }
   ],
   "source": [
    "p={1,5,8,8,5,7,0}\n",
    "print(p)"
   ]
  },
  {
   "cell_type": "code",
   "execution_count": 17,
   "id": "14f0d0de",
   "metadata": {},
   "outputs": [
    {
     "name": "stdout",
     "output_type": "stream",
     "text": [
      "{0, 1, 5, 7, 8}\n"
     ]
    }
   ],
   "source": [
    "x={5,4,1}\n",
    "print(p or x)"
   ]
  },
  {
   "cell_type": "code",
   "execution_count": 20,
   "id": "dad3f6a2",
   "metadata": {},
   "outputs": [
    {
     "name": "stdout",
     "output_type": "stream",
     "text": [
      "{1, 5}\n",
      "{0, 4, 7, 8}\n"
     ]
    }
   ],
   "source": [
    "#print(p|x)    #p.union(x)\n",
    "print(p & x)    # intersection\n",
    "print(p^x)    #exclude the same items"
   ]
  },
  {
   "cell_type": "markdown",
   "id": "9bdaf52f",
   "metadata": {},
   "source": [
    "## 4- DICTIONARIES\n",
    "A Python dictionary consists of a key and then an associated value.\n",
    "my_dict = {'key1':'value1','key2':'value2'}"
   ]
  },
  {
   "cell_type": "code",
   "execution_count": 23,
   "id": "22da9598",
   "metadata": {},
   "outputs": [
    {
     "data": {
      "text/plain": [
       "3"
      ]
     },
     "execution_count": 23,
     "metadata": {},
     "output_type": "execute_result"
    }
   ],
   "source": [
    "dict1= {  \"brand\": \"Ford\",  \"model\": \"Mustang\",  \"year\": 1964 }\n",
    "type(dict1)\n",
    "len(dict1)"
   ]
  },
  {
   "cell_type": "code",
   "execution_count": 28,
   "id": "3ce62e88",
   "metadata": {},
   "outputs": [
    {
     "name": "stdout",
     "output_type": "stream",
     "text": [
      "{'brand': 'Ford', 'model': 'Mustang', 'year': 2000}\n"
     ]
    }
   ],
   "source": [
    "#dict1[0] \n",
    "dict1['year']=2000\n",
    "print(dict1)"
   ]
  },
  {
   "cell_type": "code",
   "execution_count": 31,
   "id": "5305d60f",
   "metadata": {},
   "outputs": [
    {
     "data": {
      "text/plain": [
       "8"
      ]
     },
     "execution_count": 31,
     "metadata": {},
     "output_type": "execute_result"
    }
   ],
   "source": [
    "dict2={  \"key1\": 4,  \"key2\": \"hello\",  \"key3\": [3,6,8] }\n",
    "dict2['key3'][2]"
   ]
  },
  {
   "cell_type": "code",
   "execution_count": 33,
   "id": "750d4d9a",
   "metadata": {},
   "outputs": [
    {
     "data": {
      "text/plain": [
       "{'key1': 4, 'key2': 'hello', 'key3': 2000, 'key4': 2000}"
      ]
     },
     "execution_count": 33,
     "metadata": {},
     "output_type": "execute_result"
    }
   ],
   "source": [
    "#change value in the dictionary or add a new one\n",
    "dict2['key4']=2000\n",
    "dict2"
   ]
  },
  {
   "cell_type": "code",
   "execution_count": 38,
   "id": "c2022e52",
   "metadata": {},
   "outputs": [
    {
     "name": "stdout",
     "output_type": "stream",
     "text": [
      "[('key1', 4), ('key2', 'hello'), ('key3', 2000), ('key4', 2000)]\n"
     ]
    }
   ],
   "source": [
    "k=list(dict2.items())\n",
    "print(k)"
   ]
  },
  {
   "cell_type": "code",
   "execution_count": 39,
   "id": "9d4be0c4",
   "metadata": {},
   "outputs": [
    {
     "ename": "KeyError",
     "evalue": "'key5'",
     "output_type": "error",
     "traceback": [
      "\u001b[1;31m---------------------------------------------------------------------------\u001b[0m",
      "\u001b[1;31mKeyError\u001b[0m                                  Traceback (most recent call last)",
      "\u001b[1;32m~\\AppData\\Local\\Temp\\ipykernel_10436\\2733946986.py\u001b[0m in \u001b[0;36m<module>\u001b[1;34m\u001b[0m\n\u001b[1;32m----> 1\u001b[1;33m \u001b[0mdict2\u001b[0m\u001b[1;33m[\u001b[0m\u001b[1;34m'key5'\u001b[0m\u001b[1;33m]\u001b[0m\u001b[1;33m\u001b[0m\u001b[1;33m\u001b[0m\u001b[0m\n\u001b[0m",
      "\u001b[1;31mKeyError\u001b[0m: 'key5'"
     ]
    }
   ],
   "source": [
    "dict2['key5']"
   ]
  },
  {
   "cell_type": "code",
   "execution_count": 42,
   "id": "5261c341",
   "metadata": {},
   "outputs": [
    {
     "data": {
      "text/plain": [
       "{'key1': 4, 'key2': 'hello', 'key3': 2000, 'key4': 2000}"
      ]
     },
     "execution_count": 42,
     "metadata": {},
     "output_type": "execute_result"
    }
   ],
   "source": [
    "dict2.get('key5','60')\n",
    "dict2"
   ]
  },
  {
   "cell_type": "code",
   "execution_count": 45,
   "id": "0fa6b3ce",
   "metadata": {},
   "outputs": [
    {
     "data": {
      "text/plain": [
       "{'alaa': 50}"
      ]
     },
     "execution_count": 45,
     "metadata": {},
     "output_type": "execute_result"
    }
   ],
   "source": [
    "dict2.clear()  \n",
    "dict2['alaa']=50\n",
    "dict2"
   ]
  },
  {
   "cell_type": "code",
   "execution_count": 46,
   "id": "237e0fff",
   "metadata": {},
   "outputs": [
    {
     "ename": "NameError",
     "evalue": "name 'dict2' is not defined",
     "output_type": "error",
     "traceback": [
      "\u001b[1;31m---------------------------------------------------------------------------\u001b[0m",
      "\u001b[1;31mNameError\u001b[0m                                 Traceback (most recent call last)",
      "\u001b[1;32m~\\AppData\\Local\\Temp\\ipykernel_10436\\4035677621.py\u001b[0m in \u001b[0;36m<module>\u001b[1;34m\u001b[0m\n\u001b[0;32m      1\u001b[0m \u001b[1;32mdel\u001b[0m\u001b[1;33m(\u001b[0m\u001b[0mdict2\u001b[0m\u001b[1;33m)\u001b[0m\u001b[1;33m\u001b[0m\u001b[1;33m\u001b[0m\u001b[0m\n\u001b[1;32m----> 2\u001b[1;33m \u001b[0mprint\u001b[0m\u001b[1;33m(\u001b[0m\u001b[0mdict2\u001b[0m\u001b[1;33m)\u001b[0m\u001b[1;33m\u001b[0m\u001b[1;33m\u001b[0m\u001b[0m\n\u001b[0m",
      "\u001b[1;31mNameError\u001b[0m: name 'dict2' is not defined"
     ]
    }
   ],
   "source": [
    "del(dict2)\n",
    "print(dict2)"
   ]
  },
  {
   "cell_type": "code",
   "execution_count": 47,
   "id": "cc4b8c62",
   "metadata": {},
   "outputs": [
    {
     "name": "stdout",
     "output_type": "stream",
     "text": [
      "{'name': 'Ahmed', 'age': 30}\n"
     ]
    }
   ],
   "source": [
    "d={} #empty dictionary\n",
    "d['name']='Ahmed'\n",
    "d['age']=30\n",
    "print(d)"
   ]
  },
  {
   "cell_type": "code",
   "execution_count": 48,
   "id": "b7740662",
   "metadata": {},
   "outputs": [
    {
     "data": {
      "text/plain": [
       "{'one': [1, 3], 'two': 2, 'three': 3}"
      ]
     },
     "execution_count": 48,
     "metadata": {},
     "output_type": "execute_result"
    }
   ],
   "source": [
    "b = dict(one=[1,3], two=2, three=3) \n",
    "b"
   ]
  },
  {
   "cell_type": "code",
   "execution_count": 49,
   "id": "a0891a1c",
   "metadata": {},
   "outputs": [
    {
     "data": {
      "text/plain": [
       "{'one': [1, 2], 'three': 2, 'two': 2}"
      ]
     },
     "execution_count": 49,
     "metadata": {},
     "output_type": "execute_result"
    }
   ],
   "source": [
    "c = dict([('one', [1,2]), ('three',2),('two', 2)]) #dict with list of tuples\n",
    "c"
   ]
  },
  {
   "cell_type": "code",
   "execution_count": 34,
   "id": "8eabffd7",
   "metadata": {},
   "outputs": [
    {
     "data": {
      "text/plain": [
       "{'one': [1, 7], 'two': 2, 'three': 3}"
      ]
     },
     "execution_count": 34,
     "metadata": {},
     "output_type": "execute_result"
    }
   ],
   "source": [
    "d = dict(zip(['one', 'two', 'three'], [[1,7], 2, 3]))\n",
    "d"
   ]
  },
  {
   "cell_type": "code",
   "execution_count": 37,
   "id": "a0ffdae1",
   "metadata": {},
   "outputs": [
    {
     "data": {
      "text/plain": [
       "dict_values([[1, 7], 2, 3])"
      ]
     },
     "execution_count": 37,
     "metadata": {},
     "output_type": "execute_result"
    }
   ],
   "source": [
    "#Dict. methods\n",
    "#d.items()\n",
    "d.keys()\n",
    "d.values()"
   ]
  },
  {
   "cell_type": "code",
   "execution_count": 53,
   "id": "497174c1",
   "metadata": {},
   "outputs": [
    {
     "ename": "ValueError",
     "evalue": "dictionary update sequence element #0 has length 5; 2 is required",
     "output_type": "error",
     "traceback": [
      "\u001b[1;31m---------------------------------------------------------------------------\u001b[0m",
      "\u001b[1;31mValueError\u001b[0m                                Traceback (most recent call last)",
      "\u001b[1;32m~\\AppData\\Local\\Temp\\ipykernel_10436\\3097557580.py\u001b[0m in \u001b[0;36m<module>\u001b[1;34m\u001b[0m\n\u001b[0;32m      1\u001b[0m \u001b[0mL\u001b[0m\u001b[1;33m=\u001b[0m\u001b[1;33m[\u001b[0m\u001b[1;34m'sayed'\u001b[0m\u001b[1;33m,\u001b[0m\u001b[1;34m'soha'\u001b[0m\u001b[1;33m,\u001b[0m\u001b[1;34m'alaa'\u001b[0m\u001b[1;33m,\u001b[0m\u001b[1;34m'mohamed'\u001b[0m\u001b[1;33m]\u001b[0m\u001b[1;33m\u001b[0m\u001b[1;33m\u001b[0m\u001b[0m\n\u001b[1;32m----> 2\u001b[1;33m \u001b[0md\u001b[0m\u001b[1;33m=\u001b[0m\u001b[0mdict\u001b[0m\u001b[1;33m(\u001b[0m\u001b[0mL\u001b[0m\u001b[1;33m)\u001b[0m\u001b[1;33m\u001b[0m\u001b[1;33m\u001b[0m\u001b[0m\n\u001b[0m\u001b[0;32m      3\u001b[0m \u001b[0md\u001b[0m\u001b[1;33m\u001b[0m\u001b[1;33m\u001b[0m\u001b[0m\n\u001b[0;32m      4\u001b[0m \u001b[0md\u001b[0m\u001b[1;33m[\u001b[0m\u001b[1;34m'sayed'\u001b[0m\u001b[1;33m]\u001b[0m\u001b[1;33m=\u001b[0m\u001b[1;36m40\u001b[0m\u001b[1;33m\u001b[0m\u001b[1;33m\u001b[0m\u001b[0m\n\u001b[0;32m      5\u001b[0m \u001b[0md\u001b[0m\u001b[1;33m\u001b[0m\u001b[1;33m\u001b[0m\u001b[0m\n",
      "\u001b[1;31mValueError\u001b[0m: dictionary update sequence element #0 has length 5; 2 is required"
     ]
    }
   ],
   "source": [
    "L=['sayed','soha','alaa','mohamed']\n",
    "d=dict.fromkeys(L)\n",
    "d\n",
    "d['sayed']=40\n",
    "d"
   ]
  },
  {
   "cell_type": "markdown",
   "id": "65d94339",
   "metadata": {},
   "source": [
    "## Control statements"
   ]
  },
  {
   "cell_type": "code",
   "execution_count": 59,
   "id": "2ddbf694",
   "metadata": {},
   "outputs": [
    {
     "name": "stdout",
     "output_type": "stream",
     "text": [
      "hello\n",
      "12\n"
     ]
    }
   ],
   "source": [
    "  x = 11\n",
    "if 10 < x < 13:\n",
    "    print(\"hello\") #indentation\n",
    "    print(x+1)\n",
    "else:\n",
    "    print(\"world\")"
   ]
  },
  {
   "cell_type": "code",
   "execution_count": 61,
   "id": "9e762ed5",
   "metadata": {},
   "outputs": [
    {
     "name": "stdout",
     "output_type": "stream",
     "text": [
      "1\n",
      "3\n",
      "5\n",
      "7\n",
      "9\n"
     ]
    }
   ],
   "source": [
    "for i in range(1,10,2): #(start,stop,step)\n",
    "    print(i)\n"
   ]
  },
  {
   "cell_type": "code",
   "execution_count": 63,
   "id": "01b797ea",
   "metadata": {},
   "outputs": [
    {
     "name": "stdout",
     "output_type": "stream",
     "text": [
      "2\n",
      "3\n",
      "r\n",
      "9.9\n"
     ]
    }
   ],
   "source": [
    "data=[2,3,'r',9.9]\n",
    "for j in data[:]:\n",
    "    print(j)"
   ]
  },
  {
   "cell_type": "code",
   "execution_count": 66,
   "id": "1901efc3",
   "metadata": {},
   "outputs": [],
   "source": [
    "i = 5\n",
    "while i < 3:\n",
    "    print(i ** 2)\n",
    "    i = i+1\n",
    "\n",
    "print('Bye')"
   ]
  },
  {
   "cell_type": "code",
   "execution_count": 69,
   "id": "163aeb83",
   "metadata": {},
   "outputs": [
    {
     "name": "stdout",
     "output_type": "stream",
     "text": [
      "0\n",
      "1\n",
      "2\n",
      "3\n",
      "4\n",
      "5\n",
      "6\n"
     ]
    }
   ],
   "source": [
    "for i in range(10):\n",
    "    #print(i)\n",
    "    if i==7:\n",
    "        break \n",
    "    print(i)"
   ]
  },
  {
   "cell_type": "markdown",
   "id": "baaafb20",
   "metadata": {},
   "source": [
    "## Functions\n",
    "There are two types of functions: 1- Built-in function    2- User-defined function"
   ]
  },
  {
   "cell_type": "code",
   "execution_count": null,
   "id": "56db5cac",
   "metadata": {},
   "outputs": [],
   "source": [
    "# Built-in function   # numpy  #pandas\n",
    "len()\n",
    "x=int(4.5)\n",
    "str()\n",
    "bool\n",
    "type"
   ]
  },
  {
   "cell_type": "code",
   "execution_count": 70,
   "id": "943160c1",
   "metadata": {},
   "outputs": [
    {
     "name": "stdout",
     "output_type": "stream",
     "text": [
      "Hello\n"
     ]
    }
   ],
   "source": [
    "#user defined function\n",
    "def my_func():\n",
    "    print('Hello')\n",
    "    \n",
    "my_func()  #calling"
   ]
  },
  {
   "cell_type": "markdown",
   "id": "6d76ecda",
   "metadata": {},
   "source": [
    "When the function results in some value and that value has to be stored in a variable or needs to be sent back or returned for further operation to the main algorithm, a return statement is used."
   ]
  },
  {
   "cell_type": "code",
   "execution_count": 71,
   "id": "5a5f4062",
   "metadata": {},
   "outputs": [],
   "source": [
    "def times(x,y):\n",
    "    z = x*y\n",
    "    return z"
   ]
  },
  {
   "cell_type": "code",
   "execution_count": 73,
   "id": "1e3ce08d",
   "metadata": {},
   "outputs": [
    {
     "ename": "TypeError",
     "evalue": "times() takes 2 positional arguments but 3 were given",
     "output_type": "error",
     "traceback": [
      "\u001b[1;31m---------------------------------------------------------------------------\u001b[0m",
      "\u001b[1;31mTypeError\u001b[0m                                 Traceback (most recent call last)",
      "\u001b[1;32m~\\AppData\\Local\\Temp\\ipykernel_10436\\2117559337.py\u001b[0m in \u001b[0;36m<module>\u001b[1;34m\u001b[0m\n\u001b[1;32m----> 1\u001b[1;33m \u001b[0mtimes\u001b[0m\u001b[1;33m(\u001b[0m\u001b[1;36m3\u001b[0m\u001b[1;33m,\u001b[0m\u001b[1;36m3\u001b[0m\u001b[1;33m,\u001b[0m\u001b[1;36m1\u001b[0m\u001b[1;33m)\u001b[0m\u001b[1;33m\u001b[0m\u001b[1;33m\u001b[0m\u001b[0m\n\u001b[0m",
      "\u001b[1;31mTypeError\u001b[0m: times() takes 2 positional arguments but 3 were given"
     ]
    }
   ],
   "source": [
    "times(3,3)"
   ]
  },
  {
   "cell_type": "code",
   "execution_count": 76,
   "id": "7243ec6c",
   "metadata": {},
   "outputs": [
    {
     "name": "stdout",
     "output_type": "stream",
     "text": [
      "3\n"
     ]
    }
   ],
   "source": [
    "def add(*args):\n",
    "    x=0\n",
    "    for i in args:\n",
    "        x=x+i\n",
    "    print(x) \n",
    "    \n",
    "    \n",
    "add(1,2)    "
   ]
  },
  {
   "cell_type": "markdown",
   "id": "5e74fa2c",
   "metadata": {},
   "source": [
    "## Lambda function\n",
    "##### lambda is anonymous function (function defined without a name)\n",
    "##### used when you require a nameless function\n",
    "##### have only one expression but can have any no. of arguments"
   ]
  },
  {
   "cell_type": "code",
   "execution_count": 77,
   "id": "503b88db",
   "metadata": {},
   "outputs": [
    {
     "data": {
      "text/plain": [
       "16"
      ]
     },
     "execution_count": 77,
     "metadata": {},
     "output_type": "execute_result"
    }
   ],
   "source": [
    "s = lambda y: y*8\n",
    "s(2)"
   ]
  },
  {
   "cell_type": "code",
   "execution_count": 78,
   "id": "484e9d4e",
   "metadata": {},
   "outputs": [
    {
     "data": {
      "text/plain": [
       "81"
      ]
     },
     "execution_count": 78,
     "metadata": {},
     "output_type": "execute_result"
    }
   ],
   "source": [
    "r= lambda x,y:x**y\n",
    "\n",
    "r(3,4)"
   ]
  },
  {
   "cell_type": "markdown",
   "id": "6cb1ebb6",
   "metadata": {},
   "source": [
    "## Creating files"
   ]
  },
  {
   "cell_type": "code",
   "execution_count": 81,
   "id": "31e821b9",
   "metadata": {},
   "outputs": [],
   "source": [
    "file = open(r'C:\\Iman\\SCU\\summer_training\\nada.txt', \"w\") # create new file and write in it\n",
    "file.write(\" suez canal university\" )\n",
    "\n",
    "file.close()\n"
   ]
  },
  {
   "cell_type": "code",
   "execution_count": 83,
   "id": "ad2607dd",
   "metadata": {},
   "outputs": [],
   "source": [
    "file = open(r'C:\\Iman\\SCU\\summer_training\\nada.txt', \"a\") #write file without deleting the previous writing\n",
    "file.write(\"\\n my name is mohamed\" )\n",
    "file.write('iam 30 years old')\n",
    "\n",
    "file.close()"
   ]
  },
  {
   "cell_type": "code",
   "execution_count": 96,
   "id": "b1afb11b",
   "metadata": {},
   "outputs": [
    {
     "data": {
      "text/plain": [
       "' suez cana'"
      ]
     },
     "execution_count": 96,
     "metadata": {},
     "output_type": "execute_result"
    }
   ],
   "source": [
    "file = open(r'C:\\Iman\\SCU\\summer_training\\nada.txt', \"r\") #write file without deleting the previous writing\n",
    "# for i in file:\n",
    "#     print (i)\n",
    "x=file.read(10)\n",
    "file.close()\n",
    "x"
   ]
  },
  {
   "cell_type": "code",
   "execution_count": 92,
   "id": "127e3799",
   "metadata": {},
   "outputs": [
    {
     "ename": "FileExistsError",
     "evalue": "[WinError 183] Cannot create a file when that file already exists: 'C:\\\\Iman\\\\SCU\\\\summer_training\\\\Courses'",
     "output_type": "error",
     "traceback": [
      "\u001b[1;31m---------------------------------------------------------------------------\u001b[0m",
      "\u001b[1;31mFileExistsError\u001b[0m                           Traceback (most recent call last)",
      "\u001b[1;32m~\\AppData\\Local\\Temp\\ipykernel_10436\\3669959481.py\u001b[0m in \u001b[0;36m<module>\u001b[1;34m\u001b[0m\n\u001b[0;32m      3\u001b[0m \u001b[1;32mimport\u001b[0m \u001b[0mos\u001b[0m\u001b[1;33m\u001b[0m\u001b[1;33m\u001b[0m\u001b[0m\n\u001b[0;32m      4\u001b[0m \u001b[1;33m\u001b[0m\u001b[0m\n\u001b[1;32m----> 5\u001b[1;33m \u001b[0mos\u001b[0m\u001b[1;33m.\u001b[0m\u001b[0mmakedirs\u001b[0m\u001b[1;33m(\u001b[0m\u001b[1;34m'C:\\Iman\\SCU\\summer_training\\Courses'\u001b[0m\u001b[1;33m,\u001b[0m\u001b[0mexist_ok\u001b[0m\u001b[1;33m=\u001b[0m\u001b[1;32mFalse\u001b[0m\u001b[1;33m)\u001b[0m   \u001b[1;31m# overwrite\u001b[0m\u001b[1;33m\u001b[0m\u001b[1;33m\u001b[0m\u001b[0m\n\u001b[0m",
      "\u001b[1;32m~\\anaconda3\\envs\\SCU_training\\lib\\os.py\u001b[0m in \u001b[0;36mmakedirs\u001b[1;34m(name, mode, exist_ok)\u001b[0m\n\u001b[0;32m    221\u001b[0m             \u001b[1;32mreturn\u001b[0m\u001b[1;33m\u001b[0m\u001b[1;33m\u001b[0m\u001b[0m\n\u001b[0;32m    222\u001b[0m     \u001b[1;32mtry\u001b[0m\u001b[1;33m:\u001b[0m\u001b[1;33m\u001b[0m\u001b[1;33m\u001b[0m\u001b[0m\n\u001b[1;32m--> 223\u001b[1;33m         \u001b[0mmkdir\u001b[0m\u001b[1;33m(\u001b[0m\u001b[0mname\u001b[0m\u001b[1;33m,\u001b[0m \u001b[0mmode\u001b[0m\u001b[1;33m)\u001b[0m\u001b[1;33m\u001b[0m\u001b[1;33m\u001b[0m\u001b[0m\n\u001b[0m\u001b[0;32m    224\u001b[0m     \u001b[1;32mexcept\u001b[0m \u001b[0mOSError\u001b[0m\u001b[1;33m:\u001b[0m\u001b[1;33m\u001b[0m\u001b[1;33m\u001b[0m\u001b[0m\n\u001b[0;32m    225\u001b[0m         \u001b[1;31m# Cannot rely on checking for EEXIST, since the operating system\u001b[0m\u001b[1;33m\u001b[0m\u001b[1;33m\u001b[0m\u001b[1;33m\u001b[0m\u001b[0m\n",
      "\u001b[1;31mFileExistsError\u001b[0m: [WinError 183] Cannot create a file when that file already exists: 'C:\\\\Iman\\\\SCU\\\\summer_training\\\\Courses'"
     ]
    }
   ],
   "source": [
    "# create folders\n",
    "\n",
    "import os\n",
    "\n",
    "os.makedirs('C:\\Iman\\SCU\\summer_training\\Courses',exist_ok=False)   # overwrite"
   ]
  },
  {
   "cell_type": "code",
   "execution_count": 94,
   "id": "86cc0fa3",
   "metadata": {},
   "outputs": [
    {
     "data": {
      "text/plain": [
       "False"
      ]
     },
     "execution_count": 94,
     "metadata": {},
     "output_type": "execute_result"
    }
   ],
   "source": [
    "# check the availability of a file or folder\n",
    "\n",
    "s=os.path.exists('C:\\Iman\\SCU\\summer_training\\Courses')\n",
    "s"
   ]
  },
  {
   "cell_type": "code",
   "execution_count": null,
   "id": "4c2538d6",
   "metadata": {},
   "outputs": [],
   "source": []
  }
 ],
 "metadata": {
  "kernelspec": {
   "display_name": "Python 3 (ipykernel)",
   "language": "python",
   "name": "python3"
  },
  "language_info": {
   "codemirror_mode": {
    "name": "ipython",
    "version": 3
   },
   "file_extension": ".py",
   "mimetype": "text/x-python",
   "name": "python",
   "nbconvert_exporter": "python",
   "pygments_lexer": "ipython3",
   "version": "3.7.13"
  }
 },
 "nbformat": 4,
 "nbformat_minor": 5
}
